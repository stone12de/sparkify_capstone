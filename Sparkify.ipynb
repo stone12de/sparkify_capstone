{
 "cells": [
  {
   "cell_type": "markdown",
   "metadata": {},
   "source": [
    "# Sparkify Project Workspace\n",
    "This workspace contains a tiny subset (128MB) of the full dataset available (12GB). Feel free to use this workspace to build your project, or to explore a smaller subset with Spark before deploying your cluster on the cloud. Instructions for setting up your Spark cluster is included in the last lesson of the Extracurricular Spark Course content.\n",
    "\n",
    "You can follow the steps below to guide your data analysis and model building portion of this project."
   ]
  },
  {
   "cell_type": "code",
   "execution_count": 1,
   "metadata": {},
   "outputs": [],
   "source": [
    "# import libraries\n",
    "from pyspark.sql import SparkSession\n",
    "from pyspark.sql.functions import avg, col, concat, desc, explode, lit, min, max, split, udf, count, isnan, when, sum\n",
    "from pyspark.sql import Window\n",
    "from pyspark.sql.types import ArrayType, BooleanType, LongType, FloatType, IntegerType\n",
    "from pyspark.ml.feature import VectorAssembler, StringIndexer\n",
    "from pyspark.ml import Pipeline\n",
    "from pyspark.ml.classification import LogisticRegression, RandomForestClassifier, LinearSVC\n",
    "from pyspark.ml.evaluation import MulticlassClassificationEvaluator, BinaryClassificationEvaluator\n",
    "from pyspark.ml.feature import Normalizer, PCA, StandardScaler, VectorAssembler\n",
    "from pyspark.ml.tuning import CrossValidator, ParamGridBuilder\n",
    "import matplotlib.pyplot as plt\n",
    "%matplotlib inline\n",
    "import seaborn as sns\n",
    "import numpy as np"
   ]
  },
  {
   "cell_type": "code",
   "execution_count": 2,
   "metadata": {},
   "outputs": [],
   "source": [
    "# create a Spark session\n",
    "spark = SparkSession \\\n",
    "    .builder \\\n",
    "    .appName(\"Sparkify\") \\\n",
    "    .getOrCreate()"
   ]
  },
  {
   "cell_type": "markdown",
   "metadata": {},
   "source": [
    "# Load and Clean Dataset\n",
    "In this workspace, the mini-dataset file is `mini_sparkify_event_data.json`. Load and clean the dataset, checking for invalid or missing data - for example, records without userids or sessionids. "
   ]
  },
  {
   "cell_type": "code",
   "execution_count": 3,
   "metadata": {},
   "outputs": [
    {
     "data": {
      "text/plain": [
       "DataFrame[artist: string, auth: string, firstName: string, gender: string, itemInSession: bigint, lastName: string, length: double, level: string, location: string, method: string, page: string, registration: bigint, sessionId: bigint, song: string, status: bigint, ts: bigint, userAgent: string, userId: string]"
      ]
     },
     "execution_count": 3,
     "metadata": {},
     "output_type": "execute_result"
    }
   ],
   "source": [
    "sparkify_data = 'mini_sparkify_event_data.json'\n",
    "df = spark.read.json(sparkify_data)\n",
    "df.persist()"
   ]
  },
  {
   "cell_type": "markdown",
   "metadata": {},
   "source": [
    "# Exploratory Data Analysis\n",
    "When you're working with the full dataset, perform EDA by loading a small subset of the data and doing basic manipulations within Spark. In this workspace, you are already provided a small subset of data you can explore.\n",
    "\n",
    "### Define Churn\n",
    "\n",
    "Once you've done some preliminary analysis, create a column `Churn` to use as the label for your model. I suggest using the `Cancellation Confirmation` events to define your churn, which happen for both paid and free users. As a bonus task, you can also look into the `Downgrade` events.\n",
    "\n",
    "### Explore Data\n",
    "Once you've defined churn, perform some exploratory data analysis to observe the behavior for users who stayed vs users who churned. You can start by exploring aggregates on these two groups of users, observing how much of a specific action they experienced per a certain time unit or number of songs played."
   ]
  },
  {
   "cell_type": "markdown",
   "metadata": {},
   "source": [
    "We want to get an overview about the dataframe containing the traffic data:"
   ]
  },
  {
   "cell_type": "code",
   "execution_count": 4,
   "metadata": {},
   "outputs": [
    {
     "name": "stdout",
     "output_type": "stream",
     "text": [
      "root\n",
      " |-- artist: string (nullable = true)\n",
      " |-- auth: string (nullable = true)\n",
      " |-- firstName: string (nullable = true)\n",
      " |-- gender: string (nullable = true)\n",
      " |-- itemInSession: long (nullable = true)\n",
      " |-- lastName: string (nullable = true)\n",
      " |-- length: double (nullable = true)\n",
      " |-- level: string (nullable = true)\n",
      " |-- location: string (nullable = true)\n",
      " |-- method: string (nullable = true)\n",
      " |-- page: string (nullable = true)\n",
      " |-- registration: long (nullable = true)\n",
      " |-- sessionId: long (nullable = true)\n",
      " |-- song: string (nullable = true)\n",
      " |-- status: long (nullable = true)\n",
      " |-- ts: long (nullable = true)\n",
      " |-- userAgent: string (nullable = true)\n",
      " |-- userId: string (nullable = true)\n",
      "\n"
     ]
    }
   ],
   "source": [
    "df.printSchema()"
   ]
  },
  {
   "cell_type": "markdown",
   "metadata": {},
   "source": [
    "How many entries are there in the data set?"
   ]
  },
  {
   "cell_type": "code",
   "execution_count": 5,
   "metadata": {},
   "outputs": [
    {
     "data": {
      "text/plain": [
       "286500"
      ]
     },
     "execution_count": 5,
     "metadata": {},
     "output_type": "execute_result"
    }
   ],
   "source": [
    "df.count()"
   ]
  },
  {
   "cell_type": "markdown",
   "metadata": {},
   "source": [
    "check for missing values in \"userId\", \"sessionId\" within the data set:"
   ]
  },
  {
   "cell_type": "code",
   "execution_count": 6,
   "metadata": {},
   "outputs": [
    {
     "data": {
      "text/plain": [
       "0"
      ]
     },
     "execution_count": 6,
     "metadata": {},
     "output_type": "execute_result"
    }
   ],
   "source": [
    "df.filter(df.sessionId=='').count()"
   ]
  },
  {
   "cell_type": "code",
   "execution_count": 7,
   "metadata": {},
   "outputs": [
    {
     "data": {
      "text/plain": [
       "8346"
      ]
     },
     "execution_count": 7,
     "metadata": {},
     "output_type": "execute_result"
    }
   ],
   "source": [
    "df.filter(df.userId=='').count()"
   ]
  },
  {
   "cell_type": "markdown",
   "metadata": {},
   "source": [
    "=> no missing values in \"sessionId\", but 8346 missing in \"userId\". They are traffic-data of user, which at this stage didn't have a userId."
   ]
  },
  {
   "cell_type": "code",
   "execution_count": 8,
   "metadata": {},
   "outputs": [],
   "source": [
    "df_valid = df.filter(df.userId!='')"
   ]
  },
  {
   "cell_type": "code",
   "execution_count": 9,
   "metadata": {},
   "outputs": [
    {
     "data": {
      "text/plain": [
       "278154"
      ]
     },
     "execution_count": 9,
     "metadata": {},
     "output_type": "execute_result"
    }
   ],
   "source": [
    "df_valid.count()"
   ]
  },
  {
   "cell_type": "markdown",
   "metadata": {},
   "source": [
    "we want to remove unused columns..."
   ]
  },
  {
   "cell_type": "code",
   "execution_count": 10,
   "metadata": {},
   "outputs": [],
   "source": [
    "df_valid = df_valid.drop('sessionId','auth','method','itemInSession','userAgent','lastName','firstName','artist','song','length')"
   ]
  },
  {
   "cell_type": "markdown",
   "metadata": {},
   "source": [
    "Now we want to dig deeper into the data. From the column \"page\", which describes the interaction with the userID, we extract usefull data:\n",
    "In this context, we define labels to:  \n",
    "- count churns from the page column to have a target for the model,  \n",
    "- count thumbs ups/ downs from the page column to get an idea, if users like the music provided,  \n",
    "- count add-friends/ add-to-playlist from the page column to get an idea, if users would recomend the service to friend and if they use playlists, which is a indication for a long-term-contact  , \n",
    "- count, how many times a user switches between the levels ('paid', 'free')"
   ]
  },
  {
   "cell_type": "code",
   "execution_count": 11,
   "metadata": {},
   "outputs": [],
   "source": [
    "# define user-defined-functions to extract information about the user-behaviour:\n",
    "cancelation = udf(lambda x: 1 if x == \"Cancellation Confirmation\" else 0, IntegerType())  \n",
    "thumbs_up = udf(lambda x: 1 if x == \"Thumbs Up\" else 0, IntegerType())  \n",
    "thumbs_down = udf(lambda x: 1 if x == \"Thumbs Down\" else 0, IntegerType())  \n",
    "add_friend = udf(lambda x: 1 if x == \"Add Friend\" else 0, IntegerType())  \n",
    "add_to_playlist = udf(lambda x: 1 if x == \"Add to Playlist\" else 0, IntegerType())  \n",
    "roll_advert = udf(lambda x: 1 if x == \"Roll Advert\" else 0, IntegerType())  \n",
    "level_i = udf(lambda x: 1 if x == \"paid\" else 0, IntegerType())  \n",
    "\n",
    "# add columns with this data to the data frame\n",
    "df_valid = df_valid.withColumn(\"churn\", cancelation(\"page\"))\n",
    "df_valid = df_valid.withColumn(\"thumbs_up\", thumbs_up(\"page\"))\n",
    "df_valid = df_valid.withColumn(\"thumbs_down\", thumbs_down(\"page\"))\n",
    "df_valid = df_valid.withColumn(\"add_friend\", add_friend(\"page\"))\n",
    "df_valid = df_valid.withColumn(\"add_to_playlist\", add_to_playlist(\"page\"))\n",
    "df_valid = df_valid.withColumn(\"roll_advert\", roll_advert(\"page\"))\n",
    "df_valid = df_valid.withColumn(\"level_i\", level_i(\"level\"))\n",
    "df_valid = df_valid.withColumn(\"ts1\", df_valid.ts)\n",
    "df_valid = df_valid.withColumn(\"ts2\", df_valid.ts)"
   ]
  },
  {
   "cell_type": "markdown",
   "metadata": {},
   "source": [
    "Now we want to aggregate the data to the userID:  \n",
    "- sum churns to see, if a user has churned (perhaps more than 1 time),  \n",
    "- sum thumbs ups/ downs / add-friends/ add-to-playlist to see, how many times a user used \"thumbs up/ down/ add-friends/ add-to-playlist\",  \n",
    "- extract the dates of first, last and \"average\" time to get an idea, how long users used the service and if the usage was more intensive in the beginning or the end,\n",
    "- consider the gender and location of the user:"
   ]
  },
  {
   "cell_type": "code",
   "execution_count": 12,
   "metadata": {},
   "outputs": [],
   "source": [
    "df_valid_userId = df_valid.groupBy('userId')\\\n",
    "    .agg({'churn':'sum',\\\n",
    "          'gender':'max',\\\n",
    "          'page':'count',\\\n",
    "          'thumbs_up':'sum',\\\n",
    "          'thumbs_down':'sum',\\\n",
    "          'add_friend':'sum',\\\n",
    "          'add_to_playlist':'sum',\\\n",
    "          'roll_advert':'sum',\\\n",
    "          'location':'max',\\\n",
    "          'level_i':'sum',\\\n",
    "          'ts':'max',\\\n",
    "          'ts1':'min',\\\n",
    "          'ts2':'avg'})\\\n",
    "    .withColumnRenamed('sum(churn)', 'churns') \\\n",
    "    .withColumnRenamed('sum(thumbs_up)', 'thumbs_ups') \\\n",
    "    .withColumnRenamed('sum(thumbs_down)', 'thumbs_downs') \\\n",
    "    .withColumnRenamed('sum(add_friend)', 'add_friend') \\\n",
    "    .withColumnRenamed('sum(add_to_playlist)', 'add_to_playlist') \\\n",
    "    .withColumnRenamed('sum(roll_advert)', 'roll_advert') \\\n",
    "    .withColumnRenamed('max(location)', 'location') \\\n",
    "    .withColumnRenamed('sum(level_i)', 'level_i') \\\n",
    "    .withColumnRenamed('count(page)', 'accesses') \\\n",
    "    .withColumnRenamed('max(ts)', 'ts_max') \\\n",
    "    .withColumnRenamed('min(ts1)', 'ts_min') \\\n",
    "    .withColumnRenamed('avg(ts2)', 'ts_avg') \\\n",
    "    .withColumnRenamed('max(gender)', 'gender')"
   ]
  },
  {
   "cell_type": "raw",
   "metadata": {},
   "source": [
    "Now we want to get an overview about the data:  \n",
    "how many users are involved?"
   ]
  },
  {
   "cell_type": "code",
   "execution_count": 13,
   "metadata": {},
   "outputs": [
    {
     "data": {
      "text/plain": [
       "225"
      ]
     },
     "execution_count": 13,
     "metadata": {},
     "output_type": "execute_result"
    }
   ],
   "source": [
    "df_valid_userId.count()"
   ]
  },
  {
   "cell_type": "markdown",
   "metadata": {},
   "source": [
    "How many actions does a user have on average?"
   ]
  },
  {
   "cell_type": "code",
   "execution_count": 14,
   "metadata": {},
   "outputs": [
    {
     "data": {
      "text/plain": [
       "array([[<matplotlib.axes._subplots.AxesSubplot object at 0x7f44f8113ac8>]], dtype=object)"
      ]
     },
     "execution_count": 14,
     "metadata": {},
     "output_type": "execute_result"
    },
    {
     "data": {
      "image/png": "[encoded data removed]",
      "text/plain": [
       "<matplotlib.figure.Figure at 0x7f44f8d24748>"
      ]
     },
     "metadata": {
      "needs_background": "light"
     },
     "output_type": "display_data"
    }
   ],
   "source": [
    "df_valid_userId.select(\"accesses\").toPandas().hist(bins=20)"
   ]
  },
  {
   "cell_type": "markdown",
   "metadata": {},
   "source": [
    "How big is the churn by user?"
   ]
  },
  {
   "cell_type": "code",
   "execution_count": 15,
   "metadata": {},
   "outputs": [
    {
     "data": {
      "text/plain": [
       "<matplotlib.axes._subplots.AxesSubplot at 0x7f44f8047cf8>"
      ]
     },
     "execution_count": 15,
     "metadata": {},
     "output_type": "execute_result"
    },
    {
     "data": {
      "image/png": "[encoded data removed]",
      "text/plain": [
       "<matplotlib.figure.Figure at 0x7f44f8032470>"
      ]
     },
     "metadata": {},
     "output_type": "display_data"
    }
   ],
   "source": [
    "df_valid_userId.groupBy('churns').agg({'userId':'count'}).toPandas().replace({0: 'no churn', 1: 'churn'}).set_index('churns').plot.pie(y='count(userId)')"
   ]
  },
  {
   "cell_type": "code",
   "execution_count": 16,
   "metadata": {},
   "outputs": [
    {
     "data": {
      "text/html": [
       "<div>\n",
       "<style scoped>\n",
       "    .dataframe tbody tr th:only-of-type {\n",
       "        vertical-align: middle;\n",
       "    }\n",
       "\n",
       "    .dataframe tbody tr th {\n",
       "        vertical-align: top;\n",
       "    }\n",
       "\n",
       "    .dataframe thead th {\n",
       "        text-align: right;\n",
       "    }\n",
       "</style>\n",
       "<table border=\"1\" class=\"dataframe\">\n",
       "  <thead>\n",
       "    <tr style=\"text-align: right;\">\n",
       "      <th></th>\n",
       "      <th>count(userId)</th>\n",
       "    </tr>\n",
       "    <tr>\n",
       "      <th>churns</th>\n",
       "      <th></th>\n",
       "    </tr>\n",
       "  </thead>\n",
       "  <tbody>\n",
       "    <tr>\n",
       "      <th>no churn</th>\n",
       "      <td>173</td>\n",
       "    </tr>\n",
       "    <tr>\n",
       "      <th>churn</th>\n",
       "      <td>52</td>\n",
       "    </tr>\n",
       "  </tbody>\n",
       "</table>\n",
       "</div>"
      ],
      "text/plain": [
       "          count(userId)\n",
       "churns                 \n",
       "no churn            173\n",
       "churn                52"
      ]
     },
     "execution_count": 16,
     "metadata": {},
     "output_type": "execute_result"
    }
   ],
   "source": [
    "df_valid_userId.groupBy('churns').agg({'userId':'count'}).toPandas().replace({0: 'no churn', 1: 'churn'}).set_index('churns')"
   ]
  },
  {
   "cell_type": "markdown",
   "metadata": {},
   "source": [
    "Which gender are the users?"
   ]
  },
  {
   "cell_type": "code",
   "execution_count": 17,
   "metadata": {},
   "outputs": [
    {
     "data": {
      "text/plain": [
       "<matplotlib.axes._subplots.AxesSubplot at 0x7f44f1f79780>"
      ]
     },
     "execution_count": 17,
     "metadata": {},
     "output_type": "execute_result"
    },
    {
     "data": {
      "image/png": "[encoded data removed]",
      "text/plain": [
       "<matplotlib.figure.Figure at 0x7f44f8baad68>"
      ]
     },
     "metadata": {},
     "output_type": "display_data"
    }
   ],
   "source": [
    "df_valid_userId.groupBy('gender')\\\n",
    "    .agg({'userId':'count'}).toPandas().set_index('gender').plot.pie(y='count(userId)')"
   ]
  },
  {
   "cell_type": "markdown",
   "metadata": {},
   "source": [
    "Do the users like the music there are provided?  \n",
    "How many \"Thumbs-ups\" are there, how many \"Thumbs-downs\""
   ]
  },
  {
   "cell_type": "code",
   "execution_count": 18,
   "metadata": {},
   "outputs": [
    {
     "name": "stdout",
     "output_type": "stream",
     "text": [
      "+---------------+\n",
      "|sum(thumbs_ups)|\n",
      "+---------------+\n",
      "|          12551|\n",
      "+---------------+\n",
      "\n",
      "+-----------------+\n",
      "|sum(thumbs_downs)|\n",
      "+-----------------+\n",
      "|             2546|\n",
      "+-----------------+\n",
      "\n"
     ]
    }
   ],
   "source": [
    "df_valid_userId.agg(sum(\"thumbs_ups\")).show()\n",
    "df_valid_userId.agg(sum(\"thumbs_downs\")).show()"
   ]
  },
  {
   "cell_type": "markdown",
   "metadata": {},
   "source": [
    "Where do the users come from?"
   ]
  },
  {
   "cell_type": "code",
   "execution_count": 19,
   "metadata": {},
   "outputs": [
    {
     "data": {
      "text/plain": [
       "<matplotlib.axes._subplots.AxesSubplot at 0x7f44f1edefd0>"
      ]
     },
     "execution_count": 19,
     "metadata": {},
     "output_type": "execute_result"
    },
    {
     "data": {
      "image/png": "[encoded data removed]",
      "text/plain": [
       "<matplotlib.figure.Figure at 0x7f44f1ede940>"
      ]
     },
     "metadata": {
      "needs_background": "light"
     },
     "output_type": "display_data"
    }
   ],
   "source": [
    "temp = df_valid_userId.groupBy('location')\\\n",
    "    .agg({'userId':'count'})\\\n",
    "    .sort(\"count(userId)\", ascending=False)\\\n",
    "    .withColumnRenamed(\"count(userId)\", 'user_per_location')\n",
    "temp.filter(temp.user_per_location>1).toPandas().plot.bar(x='location', y='user_per_location', figsize=(14,3))"
   ]
  },
  {
   "cell_type": "markdown",
   "metadata": {},
   "source": [
    "hist: relative: how often has user-status changed?"
   ]
  },
  {
   "cell_type": "code",
   "execution_count": 20,
   "metadata": {},
   "outputs": [
    {
     "data": {
      "text/plain": [
       "array([[<matplotlib.axes._subplots.AxesSubplot object at 0x7f44f1da9278>]], dtype=object)"
      ]
     },
     "execution_count": 20,
     "metadata": {},
     "output_type": "execute_result"
    },
    {
     "data": {
      "image/png": "[encoded data removed]",
      "text/plain": [
       "<matplotlib.figure.Figure at 0x7f44f1debe48>"
      ]
     },
     "metadata": {
      "needs_background": "light"
     },
     "output_type": "display_data"
    }
   ],
   "source": [
    "df_valid_userId.select(df_valid_userId.level_i/ df_valid_userId.accesses).toPandas().hist(bins=20)"
   ]
  },
  {
   "cell_type": "markdown",
   "metadata": {},
   "source": [
    "# Feature Engineering\n",
    "Once you've familiarized yourself with the data, build out the features you find promising to train your model on. To work with the full dataset, you can follow the following steps.\n",
    "- Write a script to extract the necessary features from the smaller subset of data\n",
    "- Ensure that your script is scalable, using the best practices discussed in Lesson 3\n",
    "- Try your script on the full data set, debugging your script if necessary\n",
    "\n",
    "If you are working in the classroom workspace, you can just extract features based on the small subset of data contained here. Be sure to transfer over this work to the larger dataset when you work on your Spark cluster."
   ]
  },
  {
   "cell_type": "markdown",
   "metadata": {},
   "source": [
    "#### check for features:  \n",
    "We want to find out, which given features do have a significant correlation to the target \"churn\".  \n",
    "In addition, we try to create more features with significant correlation from the given data.  \n",
    "  \n",
    "Gender:  \n",
    "we want to see, if femal users tend more to resign than male:"
   ]
  },
  {
   "cell_type": "code",
   "execution_count": 21,
   "metadata": {},
   "outputs": [],
   "source": [
    "df_valid_gen_ch = df_valid_userId\\\n",
    "    .select(['gender','churns']) \\\n",
    "    .groupBy(['gender','churns']) \\\n",
    "    .agg({'gender':'count'}) \\\n",
    "    .sort(['gender',desc('count(gender)')])"
   ]
  },
  {
   "cell_type": "code",
   "execution_count": 22,
   "metadata": {},
   "outputs": [
    {
     "name": "stdout",
     "output_type": "stream",
     "text": [
      "+------+------+-------------+\n",
      "|gender|churns|count(gender)|\n",
      "+------+------+-------------+\n",
      "|     F|     0|           84|\n",
      "|     F|     1|           20|\n",
      "|     M|     0|           89|\n",
      "|     M|     1|           32|\n",
      "+------+------+-------------+\n",
      "\n"
     ]
    }
   ],
   "source": [
    "df_valid_gen_ch.show()"
   ]
  },
  {
   "cell_type": "code",
   "execution_count": 23,
   "metadata": {
    "scrolled": false
   },
   "outputs": [
    {
     "data": {
      "text/plain": [
       "<matplotlib.axes._subplots.AxesSubplot at 0x7f44f1dbd470>"
      ]
     },
     "execution_count": 23,
     "metadata": {},
     "output_type": "execute_result"
    },
    {
     "data": {
      "image/png": "[encoded data removed]",
      "text/plain": [
       "<matplotlib.figure.Figure at 0x7f44f03b75f8>"
      ]
     },
     "metadata": {
      "needs_background": "light"
     },
     "output_type": "display_data"
    }
   ],
   "source": [
    "sns.barplot(x=\"gender\", y=\"count(gender)\", hue=\"churns\", data=df_valid_gen_ch.toPandas())"
   ]
  },
  {
   "cell_type": "markdown",
   "metadata": {},
   "source": [
    "it looks like males do resign a little bit more often than females, So lets take 'gender' as a feature."
   ]
  },
  {
   "cell_type": "markdown",
   "metadata": {},
   "source": [
    "#### check for features:  \n",
    "status:"
   ]
  },
  {
   "cell_type": "markdown",
   "metadata": {},
   "source": [
    "it looks like males do churn a little bit more often than females, So lets take 'gender' as a feature."
   ]
  },
  {
   "cell_type": "markdown",
   "metadata": {},
   "source": [
    "#### check for features:  \n",
    "number of actions: The idea is, that users, which uses the service very often, tend more not to resign:"
   ]
  },
  {
   "cell_type": "code",
   "execution_count": 24,
   "metadata": {},
   "outputs": [],
   "source": [
    "df_valid_gen_ch = df_valid_userId\\\n",
    "    .select(['accesses','churns']) \\\n",
    "    .groupBy('churns') \\\n",
    "    .agg({'accesses':'avg'}) "
   ]
  },
  {
   "cell_type": "code",
   "execution_count": 25,
   "metadata": {},
   "outputs": [
    {
     "name": "stdout",
     "output_type": "stream",
     "text": [
      "+------+------------------+\n",
      "|churns|     avg(accesses)|\n",
      "+------+------------------+\n",
      "|     0|1348.4971098265896|\n",
      "|     1| 862.7692307692307|\n",
      "+------+------------------+\n",
      "\n"
     ]
    }
   ],
   "source": [
    "df_valid_gen_ch.show()"
   ]
  },
  {
   "cell_type": "code",
   "execution_count": 26,
   "metadata": {
    "scrolled": false
   },
   "outputs": [
    {
     "data": {
      "text/plain": [
       "<matplotlib.axes._subplots.AxesSubplot at 0x7f44f0338320>"
      ]
     },
     "execution_count": 26,
     "metadata": {},
     "output_type": "execute_result"
    },
    {
     "data": {
      "image/png": "[encoded data removed]",
      "text/plain": [
       "<matplotlib.figure.Figure at 0x7f44f032c6d8>"
      ]
     },
     "metadata": {
      "needs_background": "light"
     },
     "output_type": "display_data"
    }
   ],
   "source": [
    "sns.barplot(x=\"churns\", y=\"avg(accesses)\", data=df_valid_gen_ch.toPandas().replace({0: 'no churn', 1: 'churn'}))"
   ]
  },
  {
   "cell_type": "raw",
   "metadata": {},
   "source": [
    "user, that resign do use the services less often than users, who don't resign, so lets take 'accesses' as a feature."
   ]
  },
  {
   "cell_type": "markdown",
   "metadata": {},
   "source": [
    "#### check for features:  \n",
    "activity per period:  \n",
    "the idea is, that also users, which uses the service more frequently (activity per period in contrast to activity only), tend more  to not resign:"
   ]
  },
  {
   "cell_type": "code",
   "execution_count": 27,
   "metadata": {},
   "outputs": [],
   "source": [
    "df_valid_userId = df_valid_userId.withColumn(\"acc_per_time\", df_valid_userId.accesses / (df_valid_userId.ts_max - df_valid_userId.ts_min))"
   ]
  },
  {
   "cell_type": "code",
   "execution_count": 28,
   "metadata": {},
   "outputs": [
    {
     "name": "stdout",
     "output_type": "stream",
     "text": [
      "root\n",
      " |-- userId: string (nullable = true)\n",
      " |-- thumbs_ups: long (nullable = true)\n",
      " |-- location: string (nullable = true)\n",
      " |-- accesses: long (nullable = false)\n",
      " |-- ts_max: long (nullable = true)\n",
      " |-- ts_avg: double (nullable = true)\n",
      " |-- roll_advert: long (nullable = true)\n",
      " |-- ts_min: long (nullable = true)\n",
      " |-- level_i: long (nullable = true)\n",
      " |-- add_to_playlist: long (nullable = true)\n",
      " |-- churns: long (nullable = true)\n",
      " |-- thumbs_downs: long (nullable = true)\n",
      " |-- add_friend: long (nullable = true)\n",
      " |-- gender: string (nullable = true)\n",
      " |-- acc_per_time: double (nullable = true)\n",
      "\n"
     ]
    }
   ],
   "source": [
    "df_valid_userId.printSchema()"
   ]
  },
  {
   "cell_type": "code",
   "execution_count": 29,
   "metadata": {},
   "outputs": [],
   "source": [
    "df_valid_gen_ch = df_valid_userId\\\n",
    "    .select(['acc_per_time','churns']) \\\n",
    "    .groupBy('churns') \\\n",
    "    .agg({'acc_per_time':'avg'}) "
   ]
  },
  {
   "cell_type": "code",
   "execution_count": 30,
   "metadata": {},
   "outputs": [
    {
     "name": "stdout",
     "output_type": "stream",
     "text": [
      "+------+--------------------+\n",
      "|churns|   avg(acc_per_time)|\n",
      "+------+--------------------+\n",
      "|     0|5.998008275603489E-7|\n",
      "|     1|1.244870878822003...|\n",
      "+------+--------------------+\n",
      "\n"
     ]
    }
   ],
   "source": [
    "df_valid_gen_ch.show()"
   ]
  },
  {
   "cell_type": "code",
   "execution_count": 31,
   "metadata": {
    "scrolled": false
   },
   "outputs": [
    {
     "data": {
      "text/plain": [
       "<matplotlib.axes._subplots.AxesSubplot at 0x7f44f02fa6d8>"
      ]
     },
     "execution_count": 31,
     "metadata": {},
     "output_type": "execute_result"
    },
    {
     "data": {
      "image/png": "[encoded data removed]",
      "text/plain": [
       "<matplotlib.figure.Figure at 0x7f44f1debc50>"
      ]
     },
     "metadata": {
      "needs_background": "light"
     },
     "output_type": "display_data"
    }
   ],
   "source": [
    "sns.barplot(x=\"churns\", y=\"avg(acc_per_time)\", data=df_valid_gen_ch.toPandas().replace({0: 'no churn', 1: 'churn'}))"
   ]
  },
  {
   "cell_type": "raw",
   "metadata": {},
   "source": [
    "it looks like users with more activity per time tend to churn, so lets take 'acc_per_time' as a feature."
   ]
  },
  {
   "cell_type": "markdown",
   "metadata": {},
   "source": [
    "#### check for features:  \n",
    "change of activity over time:  \n",
    "by calculating the ratio of mean to range we can see if the user has more accesses in the 1st. half or in the 2nd half of his registration periode. That means, the quastion is, if the users activity changes over time. If the activity lowers, this would be an indicator, that the user looses interest."
   ]
  },
  {
   "cell_type": "code",
   "execution_count": 32,
   "metadata": {},
   "outputs": [],
   "source": [
    "df_valid_userId = df_valid_userId.withColumn(\"mean_median_ratio\", df_valid_userId.ts_avg / (df_valid_userId.ts_max - df_valid_userId.ts_min))"
   ]
  },
  {
   "cell_type": "code",
   "execution_count": 33,
   "metadata": {},
   "outputs": [],
   "source": [
    "df_valid_gen_ch = df_valid_userId\\\n",
    "    .select(['mean_median_ratio','churns']) \\\n",
    "    .groupBy('churns') \\\n",
    "    .agg({'mean_median_ratio':'avg'}) "
   ]
  },
  {
   "cell_type": "code",
   "execution_count": 34,
   "metadata": {},
   "outputs": [
    {
     "name": "stdout",
     "output_type": "stream",
     "text": [
      "+------+----------------------+\n",
      "|churns|avg(mean_median_ratio)|\n",
      "+------+----------------------+\n",
      "|     0|    32180.598203378395|\n",
      "|     1|    43774.620661879024|\n",
      "+------+----------------------+\n",
      "\n"
     ]
    }
   ],
   "source": [
    "df_valid_gen_ch.show()"
   ]
  },
  {
   "cell_type": "code",
   "execution_count": 35,
   "metadata": {
    "scrolled": false
   },
   "outputs": [
    {
     "data": {
      "text/plain": [
       "<matplotlib.axes._subplots.AxesSubplot at 0x7f44f0268908>"
      ]
     },
     "execution_count": 35,
     "metadata": {},
     "output_type": "execute_result"
    },
    {
     "data": {
      "image/png": "[encoded data removed]",
      "text/plain": [
       "<matplotlib.figure.Figure at 0x7f44f02d0f28>"
      ]
     },
     "metadata": {
      "needs_background": "light"
     },
     "output_type": "display_data"
    }
   ],
   "source": [
    "sns.barplot(x=\"churns\", y=\"avg(mean_median_ratio)\", data=df_valid_gen_ch.toPandas().replace({0: 'no churn', 1: 'churn'}))"
   ]
  },
  {
   "cell_type": "raw",
   "metadata": {},
   "source": [
    "it looks like users which uses the service less than in the beginning tend to churn, so lets take 'mean_median_ratio' as a feature."
   ]
  },
  {
   "cell_type": "markdown",
   "metadata": {},
   "source": [
    "#### check for features:  \n",
    "relative \"thumbs_ups -  thumbs_downs\"-activity:  \n",
    "by calculating the ratio of the difference between how often the user made \"thumbs_ups\"-activity and \"thumbs_down\"-activity to general activity we can see if the user likes the music being provided by the service."
   ]
  },
  {
   "cell_type": "code",
   "execution_count": 36,
   "metadata": {},
   "outputs": [],
   "source": [
    "#thumbs = udf(lambda x: 1 if x == \"Thumbs Up\" else 0, IntegerType())  "
   ]
  },
  {
   "cell_type": "code",
   "execution_count": 37,
   "metadata": {},
   "outputs": [],
   "source": [
    "df_valid_userId = df_valid_userId.withColumn(\"thumbs_ratio\", ((df_valid_userId.thumbs_ups -  df_valid_userId.thumbs_downs)/ df_valid_userId.accesses))"
   ]
  },
  {
   "cell_type": "code",
   "execution_count": 38,
   "metadata": {},
   "outputs": [],
   "source": [
    "df_valid_gen_ch = df_valid_userId\\\n",
    "    .select(['thumbs_ratio','churns']) \\\n",
    "    .groupBy('churns') \\\n",
    "    .agg({'thumbs_ratio':'avg'}) "
   ]
  },
  {
   "cell_type": "code",
   "execution_count": 39,
   "metadata": {},
   "outputs": [
    {
     "name": "stdout",
     "output_type": "stream",
     "text": [
      "+------+--------------------+\n",
      "|churns|   avg(thumbs_ratio)|\n",
      "+------+--------------------+\n",
      "|     0| 0.03591336424676769|\n",
      "|     1|0.028063337903091568|\n",
      "+------+--------------------+\n",
      "\n"
     ]
    }
   ],
   "source": [
    "df_valid_gen_ch.show()"
   ]
  },
  {
   "cell_type": "code",
   "execution_count": 40,
   "metadata": {
    "scrolled": false
   },
   "outputs": [
    {
     "data": {
      "text/plain": [
       "<matplotlib.axes._subplots.AxesSubplot at 0x7f44f0234208>"
      ]
     },
     "execution_count": 40,
     "metadata": {},
     "output_type": "execute_result"
    },
    {
     "data": {
      "image/png": "[encoded data removed]",
      "text/plain": [
       "<matplotlib.figure.Figure at 0x7f44f02247b8>"
      ]
     },
     "metadata": {
      "needs_background": "light"
     },
     "output_type": "display_data"
    }
   ],
   "source": [
    "sns.barplot(x=\"churns\", y=\"avg(thumbs_ratio)\", data=df_valid_gen_ch.toPandas().replace({0: 'no churn', 1: 'churn'}))"
   ]
  },
  {
   "cell_type": "raw",
   "metadata": {},
   "source": [
    "It looks like users which churn tend to give more thumbs up and less thumbs down than users, who don't churn, perhaps as they like the music more. So lets take 'thumbs' as a feature."
   ]
  },
  {
   "cell_type": "markdown",
   "metadata": {},
   "source": [
    "#### check for features:  \n",
    "relative \"add_friend\"-activity:  \n",
    "by calculating the ratio of how often the user made \"add_friend\"-activity to general activity we can see if the user likes the service and involves a friend."
   ]
  },
  {
   "cell_type": "code",
   "execution_count": 41,
   "metadata": {},
   "outputs": [],
   "source": [
    "#thumbs = udf(lambda x: 1 if x == \"Thumbs Up\" else 0, IntegerType())  "
   ]
  },
  {
   "cell_type": "code",
   "execution_count": 42,
   "metadata": {},
   "outputs": [],
   "source": [
    "df_valid_userId = df_valid_userId.withColumn(\"add_friend_ratio\", (df_valid_userId.add_friend / df_valid_userId.accesses))"
   ]
  },
  {
   "cell_type": "code",
   "execution_count": 43,
   "metadata": {},
   "outputs": [
    {
     "name": "stdout",
     "output_type": "stream",
     "text": [
      "root\n",
      " |-- userId: string (nullable = true)\n",
      " |-- thumbs_ups: long (nullable = true)\n",
      " |-- location: string (nullable = true)\n",
      " |-- accesses: long (nullable = false)\n",
      " |-- ts_max: long (nullable = true)\n",
      " |-- ts_avg: double (nullable = true)\n",
      " |-- roll_advert: long (nullable = true)\n",
      " |-- ts_min: long (nullable = true)\n",
      " |-- level_i: long (nullable = true)\n",
      " |-- add_to_playlist: long (nullable = true)\n",
      " |-- churns: long (nullable = true)\n",
      " |-- thumbs_downs: long (nullable = true)\n",
      " |-- add_friend: long (nullable = true)\n",
      " |-- gender: string (nullable = true)\n",
      " |-- acc_per_time: double (nullable = true)\n",
      " |-- mean_median_ratio: double (nullable = true)\n",
      " |-- thumbs_ratio: double (nullable = true)\n",
      " |-- add_friend_ratio: double (nullable = true)\n",
      "\n"
     ]
    }
   ],
   "source": [
    "df_valid_userId.printSchema()"
   ]
  },
  {
   "cell_type": "code",
   "execution_count": 44,
   "metadata": {},
   "outputs": [],
   "source": [
    "df_valid_gen_ch = df_valid_userId\\\n",
    "    .select(['add_friend_ratio','churns']) \\\n",
    "    .groupBy('churns') \\\n",
    "    .agg({'add_friend_ratio':'avg'}) "
   ]
  },
  {
   "cell_type": "code",
   "execution_count": 45,
   "metadata": {},
   "outputs": [
    {
     "name": "stdout",
     "output_type": "stream",
     "text": [
      "+------+---------------------+\n",
      "|churns|avg(add_friend_ratio)|\n",
      "+------+---------------------+\n",
      "|     0| 0.017133419241856383|\n",
      "|     1| 0.015496216774773667|\n",
      "+------+---------------------+\n",
      "\n"
     ]
    }
   ],
   "source": [
    "df_valid_gen_ch.show()"
   ]
  },
  {
   "cell_type": "code",
   "execution_count": 46,
   "metadata": {
    "scrolled": false
   },
   "outputs": [
    {
     "data": {
      "text/plain": [
       "<matplotlib.axes._subplots.AxesSubplot at 0x7f44f020ac88>"
      ]
     },
     "execution_count": 46,
     "metadata": {},
     "output_type": "execute_result"
    },
    {
     "data": {
      "image/png": "[encoded data removed]",
      "text/plain": [
       "<matplotlib.figure.Figure at 0x7f44f01fc7b8>"
      ]
     },
     "metadata": {
      "needs_background": "light"
     },
     "output_type": "display_data"
    }
   ],
   "source": [
    "sns.barplot(x=\"churns\", y=\"avg(add_friend_ratio)\", data=df_valid_gen_ch.toPandas().replace({0: 'no churn', 1: 'churn'}))"
   ]
  },
  {
   "cell_type": "raw",
   "metadata": {},
   "source": [
    "It looks like users which churn tend to give more thumbs up and less thumbs down than users, who don't churn, perhaps as they like the music more. So lets take 'thumbs' as a feature."
   ]
  },
  {
   "cell_type": "markdown",
   "metadata": {},
   "source": [
    "#### check for features:  \n",
    "relative \"add_to_playlist\"-activity:  \n",
    "by calculating the ratio of how often the user made \"add_to_playlist\"-activity to general activity we can see if the user build playlists, which he  or she can use in the future, which only make snse if you stay with the service."
   ]
  },
  {
   "cell_type": "code",
   "execution_count": 47,
   "metadata": {},
   "outputs": [],
   "source": [
    "df_valid_userId = df_valid_userId.withColumn(\"add_to_playlist_ratio\", (df_valid_userId.add_to_playlist / df_valid_userId.accesses))"
   ]
  },
  {
   "cell_type": "code",
   "execution_count": 48,
   "metadata": {},
   "outputs": [],
   "source": [
    "df_valid_gen_ch = df_valid_userId\\\n",
    "    .select(['add_to_playlist_ratio','churns']) \\\n",
    "    .groupBy('churns') \\\n",
    "    .agg({'add_to_playlist_ratio':'avg'}) "
   ]
  },
  {
   "cell_type": "code",
   "execution_count": 49,
   "metadata": {},
   "outputs": [
    {
     "name": "stdout",
     "output_type": "stream",
     "text": [
      "+------+--------------------------+\n",
      "|churns|avg(add_to_playlist_ratio)|\n",
      "+------+--------------------------+\n",
      "|     0|      0.022119638174335828|\n",
      "|     1|      0.022944399944692835|\n",
      "+------+--------------------------+\n",
      "\n"
     ]
    }
   ],
   "source": [
    "df_valid_gen_ch.show()"
   ]
  },
  {
   "cell_type": "code",
   "execution_count": 50,
   "metadata": {
    "scrolled": false
   },
   "outputs": [
    {
     "data": {
      "text/plain": [
       "<matplotlib.axes._subplots.AxesSubplot at 0x7f44f0167b70>"
      ]
     },
     "execution_count": 50,
     "metadata": {},
     "output_type": "execute_result"
    },
    {
     "data": {
      "image/png": "[encoded data removed]",
      "text/plain": [
       "<matplotlib.figure.Figure at 0x7f44f01d0390>"
      ]
     },
     "metadata": {
      "needs_background": "light"
     },
     "output_type": "display_data"
    }
   ],
   "source": [
    "sns.barplot(x=\"churns\", y=\"avg(add_to_playlist_ratio)\", data=df_valid_gen_ch.toPandas().replace({0: 'no churn', 1: 'churn'}))"
   ]
  },
  {
   "cell_type": "raw",
   "metadata": {},
   "source": [
    "It looks like users which churn tend to have a larger add_to_playlist_ratio. As usually people would create playlists if they plan to stay longer with the service, I would expect, that it would be the other way arout. Nevertheless I will take 'add_to_playlist_ratio' as a feature."
   ]
  },
  {
   "cell_type": "markdown",
   "metadata": {},
   "source": [
    "Put all features together into one vector and call it 'features'. Call the target 'churn' 'label'."
   ]
  },
  {
   "cell_type": "code",
   "execution_count": 51,
   "metadata": {},
   "outputs": [],
   "source": [
    "# rename to features and target and split up data into train and validation data:\n",
    "train,validation = df_valid_userId.withColumnRenamed('churns', 'label').randomSplit([0.8, 0.2], seed=42)"
   ]
  },
  {
   "cell_type": "code",
   "execution_count": 52,
   "metadata": {},
   "outputs": [],
   "source": [
    "# transform string \"gender\" to numercal \"gender_num\"\n",
    "indexer = StringIndexer(inputCol=\"gender\", outputCol=\"gender_num\")\n",
    "train = indexer.fit(train).transform(train)"
   ]
  },
  {
   "cell_type": "code",
   "execution_count": 53,
   "metadata": {},
   "outputs": [],
   "source": [
    "# transform features into vector\n",
    "assembler = VectorAssembler(inputCols=[\"accesses\",\"gender_num\",\"acc_per_time\",\"thumbs_ratio\",\"mean_median_ratio\", \"add_friend_ratio\",\"add_to_playlist_ratio\"], outputCol=\"features_ns\")\n",
    "train = assembler.transform(train)"
   ]
  },
  {
   "cell_type": "code",
   "execution_count": 54,
   "metadata": {},
   "outputs": [],
   "source": [
    "# transform to Standard\n",
    "scaler = StandardScaler(inputCol=\"features_ns\", outputCol=\"features1\", withStd=True)\n",
    "train = scaler.fit(train).transform(train)"
   ]
  },
  {
   "cell_type": "code",
   "execution_count": 55,
   "metadata": {},
   "outputs": [],
   "source": [
    "# create PCA-model, keep 6 features):\n",
    "pca = PCA(k=6, inputCol=\"features1\", outputCol=\"features\")\n",
    "\n",
    "# fit PCA-model:\n",
    "pca_model = pca.fit(train)\n",
    "\n",
    "# transform features:\n",
    "train = pca_model.transform(train)\n",
    "\n",
    "# calculate explained Variances\n",
    "ev = pca_model.explainedVariance"
   ]
  },
  {
   "cell_type": "code",
   "execution_count": 56,
   "metadata": {},
   "outputs": [
    {
     "data": {
      "image/png": "[encoded data removed]",
      "text/plain": [
       "<matplotlib.figure.Figure at 0x7f44f00e1b38>"
      ]
     },
     "metadata": {
      "needs_background": "light"
     },
     "output_type": "display_data"
    }
   ],
   "source": [
    "# plot explained Variances:\n",
    "plt.plot(range(1,ev.size+1),ev.cumsum(),'.')\n",
    "plt.xlabel('number of features')\n",
    "plt.ylabel('cumulative sum of explained variance')\n",
    "plt.axis([0, 8, 0, 1.1])\n",
    "plt.grid()"
   ]
  },
  {
   "cell_type": "markdown",
   "metadata": {},
   "source": [
    "We can see, that the explained Variance is distributed relativly evenly. So, if we want to keep more than 90% of the explained variance, we should keep all features. PCA as dimention reduction doesn't make sense in this context.  \n",
    "However, for comparability reasons, we will keep the PCA also in upcomming approaches."
   ]
  },
  {
   "cell_type": "markdown",
   "metadata": {},
   "source": [
    "# Modeling\n",
    "Split the full dataset into train, test, and validation sets. Test out several of the machine learning methods you learned. Evaluate the accuracy of the various models, tuning parameters as necessary. Determine your winning model based on test accuracy and report results on the validation set. Since the churned users are a fairly small subset, I suggest using F1 score as the metric to optimize."
   ]
  },
  {
   "cell_type": "markdown",
   "metadata": {},
   "source": [
    "### Overview  \n",
    "We will make the following approaches:\n",
    "#### \"manual\" modelling Logistic-Regression-model\n",
    "- data preparation\n",
    "  - transform gender to numerical values, so that it can be used in the model\n",
    "  - transform all features into a vector called \"features_ns\"\n",
    "  - standatize features\n",
    "- create, fit and test Principal Component Analysis  \n",
    "  - try to reduce the dimention of features using PCA\n",
    "- create, fit and test Logistic-Regression-model  \n",
    "\n",
    "#### optimizing parameters for Logistic-Regression-model using pipeline"
   ]
  },
  {
   "cell_type": "markdown",
   "metadata": {},
   "source": [
    "Now we create and train a Logistic Regression model:"
   ]
  },
  {
   "cell_type": "code",
   "execution_count": 57,
   "metadata": {},
   "outputs": [
    {
     "data": {
      "text/plain": [
       "0.7643979057591623"
      ]
     },
     "execution_count": 57,
     "metadata": {},
     "output_type": "execute_result"
    }
   ],
   "source": [
    "# create model:\n",
    "lr =  LogisticRegression(maxIter=10, regParam=0.0, elasticNetParam=0)\n",
    "\n",
    "# fit model:\n",
    "lrmodel = lr.fit(train)\n",
    "\n",
    "# calculate accuracy on training data:\n",
    "lrmodel.summary.accuracy\n"
   ]
  },
  {
   "cell_type": "markdown",
   "metadata": {},
   "source": [
    "So, the accuracy is not to bad.\n",
    "Now we want to build a pipline."
   ]
  },
  {
   "cell_type": "markdown",
   "metadata": {},
   "source": [
    "As we change the train data within the data preperation, we have to reset the data for the new approach:"
   ]
  },
  {
   "cell_type": "code",
   "execution_count": 58,
   "metadata": {},
   "outputs": [],
   "source": [
    "train,validation = df_valid_userId.withColumnRenamed('churns', 'label').randomSplit([0.8, 0.2], seed=42)"
   ]
  },
  {
   "cell_type": "markdown",
   "metadata": {},
   "source": [
    "We now put together all the steps descibed above into a pipeline:"
   ]
  },
  {
   "cell_type": "code",
   "execution_count": 59,
   "metadata": {},
   "outputs": [],
   "source": [
    "pipeline_lr = Pipeline(stages=[indexer, assembler, scaler, pca, lr])"
   ]
  },
  {
   "cell_type": "markdown",
   "metadata": {},
   "source": [
    "to improve the results, we will now try to find better parameters for the Logistic Regression model using a Cross Validator on a parameter grid:"
   ]
  },
  {
   "cell_type": "code",
   "execution_count": 60,
   "metadata": {
    "scrolled": true
   },
   "outputs": [
    {
     "name": "stdout",
     "output_type": "stream",
     "text": [
      "The F1 score on the evaluator set is 64.81%\n"
     ]
    }
   ],
   "source": [
    "# define parameter grid:\n",
    "paramGrid = ParamGridBuilder() \\\n",
    "    .addGrid(lr.maxIter,[5,10,20]) \\\n",
    "    .addGrid(lr.regParam,[0,0.1,0.5]) \\\n",
    "    .build()\n",
    "\n",
    "# define evaluator\n",
    "f1_score_evaluator = MulticlassClassificationEvaluator(metricName='f1')\n",
    "\n",
    "# define CrossValidator\n",
    "crossval = CrossValidator(estimator=pipeline_lr,\n",
    "                          estimatorParamMaps=paramGrid,\n",
    "                          evaluator=f1_score_evaluator,\n",
    "                          numFolds=3)\n",
    "\n",
    "# fit CrossValidator:\n",
    "cv_model_lr = crossval.fit(train)\n",
    "\n",
    "# test CrossValidator on val data:\n",
    "results = cv_model_lr.transform(validation)\n",
    "\n",
    "# evaluate F1 on val:\n",
    "f1_score = f1_score_evaluator.evaluate(results.select(col('label'), col('prediction')))\n",
    "print('The F1 score on the evaluator set is {:.2%}'.format(f1_score)) "
   ]
  },
  {
   "cell_type": "markdown",
   "metadata": {},
   "source": [
    "The best set of parameter is:"
   ]
  },
  {
   "cell_type": "code",
   "execution_count": 61,
   "metadata": {},
   "outputs": [
    {
     "data": {
      "text/plain": [
       "{Param(parent='LogisticRegression_4712717fd2ae', name='maxIter', doc='max number of iterations (>= 0).'): 5,\n",
       " Param(parent='LogisticRegression_4712717fd2ae', name='regParam', doc='regularization parameter (>= 0).'): 0.0}"
      ]
     },
     "execution_count": 61,
     "metadata": {},
     "output_type": "execute_result"
    }
   ],
   "source": [
    "cv_model_lr.getEstimatorParamMaps()[np.argmax(cv_model_lr.avgMetrics)]"
   ]
  },
  {
   "cell_type": "markdown",
   "metadata": {},
   "source": [
    "The metrices are:"
   ]
  },
  {
   "cell_type": "code",
   "execution_count": 62,
   "metadata": {},
   "outputs": [
    {
     "data": {
      "text/plain": [
       "[0.7074375251525273,\n",
       " 0.6903327168200345,\n",
       " 0.6712010801817516,\n",
       " 0.6966770699842217,\n",
       " 0.6903327168200345,\n",
       " 0.668282113242225,\n",
       " 0.6966770699842217,\n",
       " 0.6903327168200345,\n",
       " 0.668282113242225]"
      ]
     },
     "execution_count": 62,
     "metadata": {},
     "output_type": "execute_result"
    }
   ],
   "source": [
    "cv_model_lr.avgMetrics"
   ]
  },
  {
   "cell_type": "markdown",
   "metadata": {},
   "source": [
    "now we want to built a similar pipline, but this time with a RandomForestClassifier and compare both approaches:"
   ]
  },
  {
   "cell_type": "code",
   "execution_count": 63,
   "metadata": {},
   "outputs": [],
   "source": [
    "rf = RandomForestClassifier(numTrees=3, maxDepth=3,seed=42)"
   ]
  },
  {
   "cell_type": "code",
   "execution_count": 64,
   "metadata": {},
   "outputs": [],
   "source": [
    "pipeline_rf = Pipeline(stages=[indexer, assembler, scaler, pca, rf])"
   ]
  },
  {
   "cell_type": "markdown",
   "metadata": {},
   "source": [
    "reset data"
   ]
  },
  {
   "cell_type": "code",
   "execution_count": 65,
   "metadata": {},
   "outputs": [],
   "source": [
    "train,validation = df_valid_userId.withColumnRenamed('churns', 'label').randomSplit([0.8, 0.2], seed=42)"
   ]
  },
  {
   "cell_type": "code",
   "execution_count": 66,
   "metadata": {},
   "outputs": [
    {
     "name": "stdout",
     "output_type": "stream",
     "text": [
      "The F1 score on the evaluator set is 72.63%\n"
     ]
    }
   ],
   "source": [
    "paramGrid = ParamGridBuilder() \\\n",
    "    .addGrid(rf.numTrees,[30,50,80]) \\\n",
    "    .addGrid(rf.maxDepth,[3,4,10,20]) \\\n",
    "    .build()\n",
    "\n",
    "f1_score_evaluator = MulticlassClassificationEvaluator(metricName='f1')\n",
    "\n",
    "crossval = CrossValidator(estimator=pipeline_rf,\n",
    "                          estimatorParamMaps=paramGrid,\n",
    "                          evaluator=f1_score_evaluator,\n",
    "                          numFolds=3)\n",
    "\n",
    "cv_model_rf = crossval.fit(train)\n",
    "\n",
    "results = cv_model_rf.transform(validation)\n",
    "\n",
    "f1_score = f1_score_evaluator.evaluate(results.select(col('label'), col('prediction')))\n",
    "print('The F1 score on the evaluator set is {:.2%}'.format(f1_score)) "
   ]
  },
  {
   "cell_type": "code",
   "execution_count": 67,
   "metadata": {},
   "outputs": [],
   "source": [
    "# best model from cross validation:\n",
    "best_model = cv_model_rf.bestModel"
   ]
  },
  {
   "cell_type": "code",
   "execution_count": 68,
   "metadata": {},
   "outputs": [
    {
     "data": {
      "text/plain": [
       "{Param(parent='RandomForestClassifier_30e2142d2966', name='numTrees', doc='Number of trees to train (>= 1).'): 10,\n",
       " Param(parent='RandomForestClassifier_30e2142d2966', name='maxDepth', doc='Maximum depth of the tree. (>= 0) E.g., depth 0 means 1 leaf node; depth 1 means 1 internal node + 2 leaf nodes.'): 3}"
      ]
     },
     "execution_count": 68,
     "metadata": {},
     "output_type": "execute_result"
    }
   ],
   "source": [
    "# best parameters:\n",
    "cv_model_rf.getEstimatorParamMaps()[np.argmax(cv_model_rf.avgMetrics)]"
   ]
  },
  {
   "cell_type": "code",
   "execution_count": 69,
   "metadata": {
    "scrolled": true
   },
   "outputs": [
    {
     "data": {
      "text/plain": [
       "[0.7643019423414541,\n",
       " 0.734190257510902,\n",
       " 0.7009989391862903,\n",
       " 0.7719494950719603,\n",
       " 0.7531228169389741,\n",
       " 0.7661293383006982,\n",
       " 0.7762226987906244,\n",
       " 0.7607906439537435,\n",
       " 0.7411332416734633]"
      ]
     },
     "execution_count": 69,
     "metadata": {},
     "output_type": "execute_result"
    }
   ],
   "source": [
    "# metrics of all parameters:\n",
    "cv_model_rf.avgMetrics"
   ]
  },
  {
   "cell_type": "markdown",
   "metadata": {},
   "source": [
    "now we want to built a similar pipline, but this time with a Support Vector Machine and compare to the other approaches:"
   ]
  },
  {
   "cell_type": "code",
   "execution_count": 70,
   "metadata": {},
   "outputs": [],
   "source": [
    "svm = LinearSVC(maxIter=10, regParam=0.1)"
   ]
  },
  {
   "cell_type": "code",
   "execution_count": 71,
   "metadata": {},
   "outputs": [],
   "source": [
    "pipeline_svm = Pipeline(stages=[indexer, assembler, scaler, pca, svm])"
   ]
  },
  {
   "cell_type": "markdown",
   "metadata": {},
   "source": [
    "reset data"
   ]
  },
  {
   "cell_type": "code",
   "execution_count": 72,
   "metadata": {},
   "outputs": [],
   "source": [
    "train,validation = df_valid_userId.withColumnRenamed('churns', 'label').randomSplit([0.8, 0.2], seed=42)"
   ]
  },
  {
   "cell_type": "code",
   "execution_count": 73,
   "metadata": {},
   "outputs": [
    {
     "name": "stdout",
     "output_type": "stream",
     "text": [
      "The F1 score on the evaluator set is 66.27%\n"
     ]
    }
   ],
   "source": [
    "paramGrid = ParamGridBuilder() \\\n",
    "    .addGrid(svm.maxIter,[5,10,20]) \\\n",
    "    .addGrid(svm.regParam,[0,0.1,0.5]) \\\n",
    "    .build()\n",
    "\n",
    "f1_score_evaluator = MulticlassClassificationEvaluator(metricName='f1')\n",
    "\n",
    "crossval = CrossValidator(estimator=pipeline_svm,\n",
    "                          estimatorParamMaps=paramGrid,\n",
    "                          evaluator=f1_score_evaluator,\n",
    "                          numFolds=3)\n",
    "\n",
    "cv_model_svm = crossval.fit(train)\n",
    "\n",
    "results = cv_model_svm.transform(validation)\n",
    "\n",
    "f1_score = f1_score_evaluator.evaluate(results.select(col('label'), col('prediction')))\n",
    "print('The F1 score on the evaluator set is {:.2%}'.format(f1_score)) "
   ]
  },
  {
   "cell_type": "code",
   "execution_count": 74,
   "metadata": {},
   "outputs": [],
   "source": [
    "# best model from cross validation:\n",
    "best_model = cv_model_svm.bestModel"
   ]
  },
  {
   "cell_type": "code",
   "execution_count": 75,
   "metadata": {},
   "outputs": [
    {
     "data": {
      "text/plain": [
       "{Param(parent='LinearSVC_0feb2d3dcf66', name='maxIter', doc='max number of iterations (>= 0).'): 5,\n",
       " Param(parent='LinearSVC_0feb2d3dcf66', name='regParam', doc='regularization parameter (>= 0).'): 0.0}"
      ]
     },
     "execution_count": 75,
     "metadata": {},
     "output_type": "execute_result"
    }
   ],
   "source": [
    "# best parameters:\n",
    "cv_model_svm.getEstimatorParamMaps()[np.argmax(cv_model_svm.avgMetrics)]"
   ]
  },
  {
   "cell_type": "code",
   "execution_count": 76,
   "metadata": {
    "scrolled": true
   },
   "outputs": [
    {
     "data": {
      "text/plain": [
       "[0.6797357535352604,\n",
       " 0.6797357535352604,\n",
       " 0.6797357535352604,\n",
       " 0.6797357535352604,\n",
       " 0.6797357535352604,\n",
       " 0.6797357535352604,\n",
       " 0.6797357535352604,\n",
       " 0.6797357535352604,\n",
       " 0.6797357535352604]"
      ]
     },
     "execution_count": 76,
     "metadata": {},
     "output_type": "execute_result"
    }
   ],
   "source": [
    "# metrics of all parameters:\n",
    "cv_model_svm.avgMetrics"
   ]
  },
  {
   "cell_type": "markdown",
   "metadata": {},
   "source": [
    "# Final Steps\n",
    "Clean up your code, adding comments and renaming variables to make the code easier to read and maintain. Refer to the Spark Project Overview page and Data Scientist Capstone Project Rubric to make sure you are including all components of the capstone project and meet all expectations. Remember, this includes thorough documentation in a README file in a Github repository, as well as a web app or blog post."
   ]
  },
  {
   "cell_type": "code",
   "execution_count": 77,
   "metadata": {},
   "outputs": [
    {
     "name": "stdout",
     "output_type": "stream",
     "text": [
      "2.4.3\n"
     ]
    }
   ],
   "source": [
    "import pyspark; print(pyspark.__version__)"
   ]
  },
  {
   "cell_type": "code",
   "execution_count": 78,
   "metadata": {},
   "outputs": [
    {
     "name": "stdout",
     "output_type": "stream",
     "text": [
      "1.12.1\n"
     ]
    }
   ],
   "source": [
    "import numpy; print(numpy.__version__)"
   ]
  },
  {
   "cell_type": "code",
   "execution_count": 79,
   "metadata": {},
   "outputs": [
    {
     "name": "stdout",
     "output_type": "stream",
     "text": [
      "0.8.1\n"
     ]
    }
   ],
   "source": [
    "import seaborn; print(seaborn.__version__)"
   ]
  },
  {
   "cell_type": "code",
   "execution_count": 80,
   "metadata": {},
   "outputs": [
    {
     "name": "stdout",
     "output_type": "stream",
     "text": [
      "0.23.3\n"
     ]
    }
   ],
   "source": [
    "import pandas; print(pandas.__version__)"
   ]
  },
  {
   "cell_type": "code",
   "execution_count": 81,
   "metadata": {},
   "outputs": [
    {
     "name": "stdout",
     "output_type": "stream",
     "text": [
      "2.1.0\n"
     ]
    }
   ],
   "source": [
    "import matplotlib; print(matplotlib.__version__)"
   ]
  },
  {
   "cell_type": "code",
   "execution_count": 82,
   "metadata": {},
   "outputs": [
    {
     "name": "stdout",
     "output_type": "stream",
     "text": [
      "3.6.3\n"
     ]
    }
   ],
   "source": [
    "from platform import python_version\n",
    "\n",
    "print(python_version())"
   ]
  },
  {
   "cell_type": "code",
   "execution_count": 83,
   "metadata": {},
   "outputs": [
    {
     "name": "stdout",
     "output_type": "stream",
     "text": [
      "2.1.0\n"
     ]
    }
   ],
   "source": [
    "print(matplotlib.__version__)\n"
   ]
  },
  {
   "cell_type": "code",
   "execution_count": null,
   "metadata": {},
   "outputs": [],
   "source": []
  }
 ],
 "metadata": {
  "kernelspec": {
   "display_name": "Python 3",
   "language": "python",
   "name": "python3"
  },
  "language_info": {
   "codemirror_mode": {
    "name": "ipython",
    "version": 3
   },
   "file_extension": ".py",
   "mimetype": "text/x-python",
   "name": "python",
   "nbconvert_exporter": "python",
   "pygments_lexer": "ipython3",
   "version": "3.6.3"
  }
 },
 "nbformat": 4,
 "nbformat_minor": 2
}
